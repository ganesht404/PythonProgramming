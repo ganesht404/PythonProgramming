{
 "cells": [
  {
   "cell_type": "code",
   "execution_count": null,
   "id": "79f44ca6-f671-4d8e-930d-0d76b7e845d6",
   "metadata": {},
   "outputs": [],
   "source": [
    ">>Introduction to f strings **"
   ]
  },
  {
   "cell_type": "code",
   "execution_count": 7,
   "id": "5df4bddb-15e8-479c-9ab3-ca393ff8317c",
   "metadata": {},
   "outputs": [],
   "source": [
    "firstname = 'ganesh' \n",
    "lastname = 'thorat'"
   ]
  },
  {
   "cell_type": "code",
   "execution_count": null,
   "id": "751c06d3-156e-4fb0-996a-9fa9545ddfe1",
   "metadata": {},
   "outputs": [],
   "source": [
    "#genral syntax of f string"
   ]
  },
  {
   "cell_type": "code",
   "execution_count": null,
   "id": "01ada7cb-df83-4ffa-a3d1-48c4ff9980a4",
   "metadata": {},
   "outputs": [],
   "source": [
    "f\"custom message {place_holder_1}{place_holder_2}_______________{place_holder_n}"
   ]
  },
  {
   "cell_type": "code",
   "execution_count": null,
   "id": "e9f4a33a-b32c-4bcd-b9ba-6c5e4907fc8f",
   "metadata": {},
   "outputs": [],
   "source": [
    "#req: i want to get full name"
   ]
  },
  {
   "cell_type": "code",
   "execution_count": 9,
   "id": "6e2ad550-f399-4583-9fb9-b93551b9f7d4",
   "metadata": {},
   "outputs": [
    {
     "name": "stdout",
     "output_type": "stream",
     "text": [
      "ganesh thorat\n"
     ]
    }
   ],
   "source": [
    "fullname = f\"{firstname} {lastname}\"\n",
    "print(fullname)"
   ]
  },
  {
   "cell_type": "code",
   "execution_count": 10,
   "id": "6405b45c-3e5b-42aa-9e95-ba94c48bb093",
   "metadata": {},
   "outputs": [
    {
     "name": "stdout",
     "output_type": "stream",
     "text": [
      "Ganesh Thorat\n"
     ]
    }
   ],
   "source": [
    "print(fullname.title())"
   ]
  },
  {
   "cell_type": "code",
   "execution_count": 14,
   "id": "a27e43ca-74cb-4077-a319-1c97de14b6c1",
   "metadata": {},
   "outputs": [],
   "source": [
    "message = f\"Hello {fullname.title()} , Welcome to python world!\""
   ]
  },
  {
   "cell_type": "code",
   "execution_count": 15,
   "id": "73cbcef7-98be-42f9-87dc-ac405d38b80c",
   "metadata": {},
   "outputs": [
    {
     "name": "stdout",
     "output_type": "stream",
     "text": [
      "Hello Ganesh Thorat , Welcome to python world!\n"
     ]
    }
   ],
   "source": [
    "print(message)"
   ]
  },
  {
   "cell_type": "code",
   "execution_count": null,
   "id": "f0135a95-2658-48bc-aea0-56054d467c9b",
   "metadata": {},
   "outputs": [],
   "source": [
    ">>Adding whitespaces to the string"
   ]
  },
  {
   "cell_type": "code",
   "execution_count": 16,
   "id": "2442ed5c-4289-4888-9263-f677959d82dd",
   "metadata": {},
   "outputs": [
    {
     "name": "stdout",
     "output_type": "stream",
     "text": [
      "Programming Languages:CC++Java.NetPythonPHP\n"
     ]
    }
   ],
   "source": [
    "print(\"Programming Languages:CC++Java.NetPythonPHP\")"
   ]
  },
  {
   "cell_type": "code",
   "execution_count": 17,
   "id": "9bbbe604-648f-4fe5-a7ed-7b0bf34cffab",
   "metadata": {},
   "outputs": [
    {
     "name": "stdout",
     "output_type": "stream",
     "text": [
      "Programming Languages:\n",
      "C\n",
      "C++\n",
      "Java\n",
      ".Net\n",
      "Python\n",
      "PHP\n"
     ]
    }
   ],
   "source": [
    "print(\"Programming Languages:\\nC\\nC++\\nJava\\n.Net\\nPython\\nPHP\") #\\n ->new line delimiter"
   ]
  },
  {
   "cell_type": "code",
   "execution_count": 20,
   "id": "d6234e07-a8d3-442b-be6d-26c3e629f135",
   "metadata": {},
   "outputs": [
    {
     "name": "stdout",
     "output_type": "stream",
     "text": [
      "Programming Languages:\n",
      "\tC\n",
      "\tC++\n",
      "\tJava\n",
      "\t.Net\n",
      "\tPython\n",
      "\tPHP\n"
     ]
    }
   ],
   "source": [
    "print(\"Programming Languages:\\n\\tC\\n\\tC++\\n\\tJava\\n\\t.Net\\n\\tPython\\n\\tPHP\") #\\t ->tab delimiter"
   ]
  },
  {
   "cell_type": "code",
   "execution_count": null,
   "id": "c23d409d-7b3a-4544-a920-4dd67c54dec6",
   "metadata": {},
   "outputs": [],
   "source": [
    ">>Removing whitespaces from string"
   ]
  },
  {
   "cell_type": "code",
   "execution_count": 22,
   "id": "9df34382-491f-43f2-a2d7-d112a04bb00d",
   "metadata": {},
   "outputs": [
    {
     "name": "stdout",
     "output_type": "stream",
     "text": [
      "   ganesh\n"
     ]
    }
   ],
   "source": [
    "name='   ganesh'\n",
    "print(name)"
   ]
  },
  {
   "cell_type": "code",
   "execution_count": 23,
   "id": "de780a0f-5c71-43a5-a29f-0d6f4c3979ba",
   "metadata": {},
   "outputs": [
    {
     "name": "stdout",
     "output_type": "stream",
     "text": [
      "ganesh\n"
     ]
    }
   ],
   "source": [
    "name2='ganesh'\n",
    "print(name2)"
   ]
  },
  {
   "cell_type": "code",
   "execution_count": 24,
   "id": "b443bfcc-c662-4efb-9f59-857977a75a72",
   "metadata": {},
   "outputs": [
    {
     "name": "stdout",
     "output_type": "stream",
     "text": [
      "ganesh      \n"
     ]
    }
   ],
   "source": [
    "name3='ganesh      '\n",
    "print(name3)"
   ]
  },
  {
   "cell_type": "code",
   "execution_count": 25,
   "id": "becc4233-12ff-4df5-a2ba-5c1711da72ed",
   "metadata": {},
   "outputs": [
    {
     "data": {
      "text/plain": [
       "'ganesh'"
      ]
     },
     "execution_count": 25,
     "metadata": {},
     "output_type": "execute_result"
    }
   ],
   "source": [
    "name.lstrip()"
   ]
  },
  {
   "cell_type": "code",
   "execution_count": 26,
   "id": "989f3bbb-a64a-4f65-b907-fd8cd7fa3580",
   "metadata": {},
   "outputs": [
    {
     "data": {
      "text/plain": [
       "'ganesh'"
      ]
     },
     "execution_count": 26,
     "metadata": {},
     "output_type": "execute_result"
    }
   ],
   "source": [
    "name3.rstrip()"
   ]
  },
  {
   "cell_type": "code",
   "execution_count": 27,
   "id": "953ec8d5-dbb4-489a-8fee-917867367015",
   "metadata": {},
   "outputs": [
    {
     "name": "stdout",
     "output_type": "stream",
     "text": [
      "     ganesh      \n"
     ]
    }
   ],
   "source": [
    "name4='     ganesh      '\n",
    "print(name4)"
   ]
  },
  {
   "cell_type": "code",
   "execution_count": 28,
   "id": "2b1588c0-f443-4e21-8aec-3a8bb02723af",
   "metadata": {},
   "outputs": [
    {
     "data": {
      "text/plain": [
       "'ganesh'"
      ]
     },
     "execution_count": 28,
     "metadata": {},
     "output_type": "execute_result"
    }
   ],
   "source": [
    "name4.strip()"
   ]
  },
  {
   "cell_type": "code",
   "execution_count": 30,
   "id": "12d5ceb9-f1ca-4888-9731-538d4e9dfe30",
   "metadata": {},
   "outputs": [
    {
     "name": "stdout",
     "output_type": "stream",
     "text": [
      "The Zen of Python, by Tim Peters\n",
      "\n",
      "Beautiful is better than ugly.\n",
      "Explicit is better than implicit.\n",
      "Simple is better than complex.\n",
      "Complex is better than complicated.\n",
      "Flat is better than nested.\n",
      "Sparse is better than dense.\n",
      "Readability counts.\n",
      "Special cases aren't special enough to break the rules.\n",
      "Although practicality beats purity.\n",
      "Errors should never pass silently.\n",
      "Unless explicitly silenced.\n",
      "In the face of ambiguity, refuse the temptation to guess.\n",
      "There should be one-- and preferably only one --obvious way to do it.\n",
      "Although that way may not be obvious at first unless you're Dutch.\n",
      "Now is better than never.\n",
      "Although never is often better than *right* now.\n",
      "If the implementation is hard to explain, it's a bad idea.\n",
      "If the implementation is easy to explain, it may be a good idea.\n",
      "Namespaces are one honking great idea -- let's do more of those!\n"
     ]
    }
   ],
   "source": [
    "#Zen of python \n",
    "\n",
    "import this"
   ]
  },
  {
   "cell_type": "code",
   "execution_count": null,
   "id": "0543636a-58b6-4fcb-acb9-edef9ecb4813",
   "metadata": {},
   "outputs": [],
   "source": []
  }
 ],
 "metadata": {
  "kernelspec": {
   "display_name": "Python [conda env:base] *",
   "language": "python",
   "name": "conda-base-py"
  },
  "language_info": {
   "codemirror_mode": {
    "name": "ipython",
    "version": 3
   },
   "file_extension": ".py",
   "mimetype": "text/x-python",
   "name": "python",
   "nbconvert_exporter": "python",
   "pygments_lexer": "ipython3",
   "version": "3.13.5"
  }
 },
 "nbformat": 4,
 "nbformat_minor": 5
}
