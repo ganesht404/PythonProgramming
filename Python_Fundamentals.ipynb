{
 "cells": [
  {
   "cell_type": "code",
   "execution_count": 1,
   "id": "5c005413-5e4c-4bea-a0fd-638b988d6a65",
   "metadata": {},
   "outputs": [
    {
     "name": "stdout",
     "output_type": "stream",
     "text": [
      "Welcome to python programming world!\n"
     ]
    }
   ],
   "source": [
    "print('Welcome to python programming world!')"
   ]
  },
  {
   "cell_type": "code",
   "execution_count": 2,
   "id": "1b559465-b305-466f-8c6f-beaeb4bf8181",
   "metadata": {},
   "outputs": [
    {
     "name": "stdout",
     "output_type": "stream",
     "text": [
      "Hello World!\n"
     ]
    }
   ],
   "source": [
    "print('Hello World!') #to run this code use Shift+Enter key"
   ]
  },
  {
   "cell_type": "code",
   "execution_count": null,
   "id": "72137edb-9ac8-4faf-bc3b-e42f1d21d585",
   "metadata": {},
   "outputs": [],
   "source": []
  }
 ],
 "metadata": {
  "kernelspec": {
   "display_name": "Python [conda env:base] *",
   "language": "python",
   "name": "conda-base-py"
  },
  "language_info": {
   "codemirror_mode": {
    "name": "ipython",
    "version": 3
   },
   "file_extension": ".py",
   "mimetype": "text/x-python",
   "name": "python",
   "nbconvert_exporter": "python",
   "pygments_lexer": "ipython3",
   "version": "3.13.5"
  }
 },
 "nbformat": 4,
 "nbformat_minor": 5
}
